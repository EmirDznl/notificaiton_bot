{
 "cells": [
  {
   "cell_type": "code",
   "execution_count": 114,
   "id": "fa1375ca-67fa-4288-be16-284e5865c6f0",
   "metadata": {},
   "outputs": [],
   "source": [
    "import requests\n",
    "from bs4 import BeautifulSoup\n",
    "import json"
   ]
  },
  {
   "cell_type": "code",
   "execution_count": 115,
   "id": "0edaaca7-40c6-46d6-ba46-dffb7d0faad8",
   "metadata": {},
   "outputs": [],
   "source": [
    "with open(\"sensitive_infos.json\", \"r\") as data_json:\n",
    "    infos = json.load(data_json)\n",
    "\n",
    "user_agent= infos[\"User-Agent\"]\n",
    "website_link = infos[\"website\"]\n",
    "first_time = infos[\"first_time\"]\n",
    "\n",
    "URL = website_link\n",
    "\n",
    "headers = {\n",
    "\"User-Agent\": user_agent\n",
    "}\n",
    "\n",
    "response = requests.get(URL , headers =  headers)\n",
    "soup = BeautifulSoup(response.content, \"html.parser\")"
   ]
  },
  {
   "cell_type": "code",
   "execution_count": 116,
   "id": "620c44ff-a10e-4fc9-ad3c-2cb010663575",
   "metadata": {
    "scrolled": true
   },
   "outputs": [],
   "source": [
    "orta_içerik = soup.find('div', attrs = {'id':'orta-icerik'})\n",
    "box_content = soup.find_all(\"div\", class_=[\"col-md-6\", \"col-sm-6\", \"col-xs-12\"])\n",
    "outer_div = soup.find_all(\"div\", class_=[\"panel\", \"panel-visible\"])\n",
    "inner_div = soup.find_all(\"div\", class_ = \"panel-ust-ic\")\n",
    "ep_name_html = soup.find_all(\"a\", class_ = \"baloon\")"
   ]
  },
  {
   "cell_type": "code",
   "execution_count": 117,
   "id": "b6c44964-89b4-4ad7-bf74-036bef4220d5",
   "metadata": {},
   "outputs": [],
   "source": [
    "orta_içerik = soup.find('div', attrs = {'id':'orta-icerik'})\n",
    "box_content = soup.find_all(\"div\", class_=[\"col-md-6\", \"col-sm-6\", \"col-xs-12\"])\n",
    "outer_div = soup.find_all(\"div\", class_=[\"panel\", \"panel-visible\"])\n",
    "inner_div = soup.find_all(\"div\", class_ =[\"panel-ust-ic\"])"
   ]
  },
  {
   "cell_type": "code",
   "execution_count": 118,
   "id": "865df0ab-c158-44cb-ad6d-3fb7bd4f2301",
   "metadata": {},
   "outputs": [],
   "source": [
    "html_content = \"\".join(str(item) for item in inner_div)\n",
    "final_soup = BeautifulSoup(html_content, \"html.parser\")"
   ]
  },
  {
   "cell_type": "code",
   "execution_count": 119,
   "id": "4d85dc99-e69b-4a1b-95ca-2100a223acf3",
   "metadata": {},
   "outputs": [],
   "source": [
    "new_anime_ep_dict = {}\n",
    "links = final_soup.find_all(\"a\")\n",
    "for link in links:\n",
    "    title = link.get(\"title\")\n",
    "    href = link.get(\"href\")\n",
    "    if title and href:\n",
    "        new_anime_ep_dict[title] = href"
   ]
  },
  {
   "cell_type": "code",
   "execution_count": 121,
   "id": "a2bbc00a-e442-459d-8c2c-302f8af64c0f",
   "metadata": {},
   "outputs": [
    {
     "name": "stdin",
     "output_type": "stream",
     "text": [
      "anime ismini girin(cikmak icin 'Exit' yazin):  Unnamed Memory Act.2 4\n",
      "anime ismini girin(cikmak icin 'Exit' yazin):  Class no Daikirai na Joshi to Kekkon suru Koto ni Natta\n",
      "anime ismini girin(cikmak icin 'Exit' yazin):  Nihon e Youkoso Elf-san. 2. Bölüm izle\n",
      "anime ismini girin(cikmak icin 'Exit' yazin):  exit\n"
     ]
    }
   ],
   "source": [
    "user_follow_list = []\n",
    "while(True):\n",
    "    name = input(\"anime ismini girin(cikmak icin 'Exit' yazin): \")\n",
    "    if name.lower() == \"exit\":\n",
    "        break\n",
    "    user_follow_list.append(name)"
   ]
  },
  {
   "cell_type": "code",
   "execution_count": 122,
   "id": "15cca22e-59b5-49cc-910c-8539f8ad10d4",
   "metadata": {},
   "outputs": [],
   "source": [
    "import difflib\n",
    "def benzerlik_orani(kelime1, kelime2):\n",
    "    benzerlik = difflib.SequenceMatcher(None, kelime1, kelime2).ratio()\n",
    "    return benzerlik * 100\n",
    "    \n",
    "new_episodes_matched = {}\n",
    "\n",
    "for yeni_bolum in new_anime_ep_dict.keys():\n",
    "    for user_selection in user_follow_list:\n",
    "        if benzerlik_orani(yeni_bolum, user_selection) > 50:\n",
    "            new_episodes_matched[yeni_bolum] =  new_anime_ep_dict[yeni_bolum]\n"
   ]
  },
  {
   "cell_type": "code",
   "execution_count": 123,
   "id": "74a9fab0-a150-4849-b429-0e0237ecfdcf",
   "metadata": {},
   "outputs": [],
   "source": [
    "if first_time:\n",
    "    old_new_episodes = []\n",
    "    first_time = False\n",
    "    with open(\"sensitive_infos.json\", \"w\") as data_json:\n",
    "        infos[\"first_time\"] = \"False\"\n",
    "        infos = json.dump(infos, data_json)\n"
   ]
  },
  {
   "cell_type": "code",
   "execution_count": 124,
   "id": "b091ae47-434b-4c65-86d1-6ba9be96b8df",
   "metadata": {},
   "outputs": [],
   "source": [
    "for eps in new_anime_ep_dict.keys():\n",
    "    if eps in old_new_episodes:\n",
    "        new_anime_ep_dict[eps] = new_anime_ep_dict[eps] + \"    ////////was occured in previous list/////////\"\n",
    "old_new_episodes = list(new_anime_ep_dict.keys())"
   ]
  },
  {
   "cell_type": "code",
   "execution_count": 125,
   "id": "8d0a146a-2ec8-48df-9ee4-aadbacb0e602",
   "metadata": {},
   "outputs": [],
   "source": [
    "with open(\"episodes_to_watch.txt\", \"w\" ) as file:\n",
    "    for ep in new_episodes_matched.keys():\n",
    "        file.write(ep + \": \" + new_episodes_matched[ep] + \"\\n\")"
   ]
  },
  {
   "cell_type": "code",
   "execution_count": null,
   "id": "6285401c-b07f-4ffd-a98d-d33580ec3835",
   "metadata": {},
   "outputs": [],
   "source": []
  }
 ],
 "metadata": {
  "kernelspec": {
   "display_name": "Python 3 (ipykernel)",
   "language": "python",
   "name": "python3"
  },
  "language_info": {
   "codemirror_mode": {
    "name": "ipython",
    "version": 3
   },
   "file_extension": ".py",
   "mimetype": "text/x-python",
   "name": "python",
   "nbconvert_exporter": "python",
   "pygments_lexer": "ipython3",
   "version": "3.12.3"
  }
 },
 "nbformat": 4,
 "nbformat_minor": 5
}
