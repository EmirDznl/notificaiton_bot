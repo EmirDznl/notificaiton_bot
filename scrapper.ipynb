{
 "cells": [
  {
   "cell_type": "code",
   "execution_count": 1,
   "id": "fa1375ca-67fa-4288-be16-284e5865c6f0",
   "metadata": {},
   "outputs": [],
   "source": [
    "import requests\n",
    "from bs4 import BeautifulSoup\n",
    "import json"
   ]
  },
  {
   "cell_type": "code",
   "execution_count": 4,
   "id": "0edaaca7-40c6-46d6-ba46-dffb7d0faad8",
   "metadata": {},
   "outputs": [],
   "source": [
    "with open(\"sensitive_infos.json\", \"r\") as data_json:\n",
    "    infos = json.load(data_json)\n",
    "\n",
    "user_agent= infos[\"User-Agent\"]\n",
    "website_link = infos[\"website\"]\n",
    "\n",
    "URL = website_link\n",
    "\n",
    "headers = {\n",
    "\"User-Agent\": user_agent\n",
    "}\n",
    "\n",
    "response = requests.get(URL , headers =  headers)\n",
    "soup = BeautifulSoup(response.content, \"html.parser\")"
   ]
  },
  {
   "cell_type": "code",
   "execution_count": 5,
   "id": "620c44ff-a10e-4fc9-ad3c-2cb010663575",
   "metadata": {
    "scrolled": true
   },
   "outputs": [],
   "source": [
    "orta_içerik = soup.find('div', attrs = {'id':'orta-icerik'})\n",
    "box_content = soup.find_all(\"div\", class_=[\"col-md-6\", \"col-sm-6\", \"col-xs-12\"])\n",
    "outer_div = soup.find_all(\"div\", class_=[\"panel\", \"panel-visible\"])\n",
    "inner_div = soup.find_all(\"div\", class_ = \"panel-ust-ic\")\n",
    "ep_name_html = soup.find_all(\"a\", class_ = \"baloon\")"
   ]
  },
  {
   "cell_type": "code",
   "execution_count": 6,
   "id": "b6c44964-89b4-4ad7-bf74-036bef4220d5",
   "metadata": {},
   "outputs": [],
   "source": [
    "orta_içerik = soup.find('div', attrs = {'id':'orta-icerik'})\n",
    "box_content = soup.find_all(\"div\", class_=[\"col-md-6\", \"col-sm-6\", \"col-xs-12\"])\n",
    "outer_div = soup.find_all(\"div\", class_=[\"panel\", \"panel-visible\"])\n",
    "inner_div = soup.find_all(\"div\", class_ =[\"panel-ust-ic\"])"
   ]
  },
  {
   "cell_type": "code",
   "execution_count": 7,
   "id": "865df0ab-c158-44cb-ad6d-3fb7bd4f2301",
   "metadata": {},
   "outputs": [],
   "source": [
    "html_content = \"\".join(str(item) for item in inner_div)\n",
    "final_soup = BeautifulSoup(html_content, \"html.parser\")"
   ]
  },
  {
   "cell_type": "code",
   "execution_count": 8,
   "id": "4d85dc99-e69b-4a1b-95ca-2100a223acf3",
   "metadata": {},
   "outputs": [],
   "source": [
    "new_anime_ep_list = []\n",
    "links = final_soup.find_all(\"a\")\n",
    "for link in links:\n",
    "    title = link.get(\"title\")\n",
    "    new_anime_ep_list.append(title)"
   ]
  },
  {
   "cell_type": "code",
   "execution_count": 9,
   "id": "0a6fdb1a-c8c7-47cd-8635-7e4bc9dafa32",
   "metadata": {},
   "outputs": [
    {
     "data": {
      "text/plain": [
       "['Unnamed Memory Act.2 3. Bölüm izle',\n",
       " 'Jibaku Shounen Hanako-kun 2 3. Bölüm izle',\n",
       " 'Guild no Uketsukejou desu ga, Zangyou wa Iya nanode Boss wo Solo Toubatsu Shiyou to Omoimasu 3. Bölüm izle',\n",
       " 'Nihon e Youkoso Elf-san. 2. Bölüm izle',\n",
       " 'Kimi no Koto ga Season 2 3. Bölüm izle',\n",
       " 'Sakamoto Days 4. Bölüm izle',\n",
       " 'Ao no Hako 17. Bölüm izle',\n",
       " 'Nozomanu Fushi no Boukensha 1. Bölüm izle',\n",
       " 'Ore dake Level Up na Ken Season 2: Arise from the Shadow 4. Bölüm izle',\n",
       " 'Class no Daikirai na Joshi to Kekkon suru Koto ni Natta. 3. Bölüm izle']"
      ]
     },
     "execution_count": 9,
     "metadata": {},
     "output_type": "execute_result"
    }
   ],
   "source": [
    "new_anime_ep_list"
   ]
  },
  {
   "cell_type": "code",
   "execution_count": 13,
   "id": "a2bbc00a-e442-459d-8c2c-302f8af64c0f",
   "metadata": {},
   "outputs": [
    {
     "name": "stdin",
     "output_type": "stream",
     "text": [
      "anime ismini girin(cikmak icin 'Exit' yazin):  unnamed memorrr\n",
      "anime ismini girin(cikmak icin 'Exit' yazin):  guşld uketuskeju\n",
      "anime ismini girin(cikmak icin 'Exit' yazin):  sakamoto days\n",
      "anime ismini girin(cikmak icin 'Exit' yazin):  Exit\n"
     ]
    }
   ],
   "source": [
    "user_follow_list = []\n",
    "while(True):\n",
    "    name = input(\"anime ismini girin(cikmak icin 'Exit' yazin): \")\n",
    "    if name.lower() == \"exit\":\n",
    "        break\n",
    "    user_follow_list.append(name)"
   ]
  },
  {
   "cell_type": "code",
   "execution_count": 14,
   "id": "15cca22e-59b5-49cc-910c-8539f8ad10d4",
   "metadata": {},
   "outputs": [],
   "source": [
    "import difflib\n",
    "def benzerlik_orani(kelime1, kelime2):\n",
    "    benzerlik = difflib.SequenceMatcher(None, kelime1, kelime2).ratio()\n",
    "    return benzerlik * 100\n",
    "    \n",
    "new_episodes_matched = []\n",
    "\n",
    "for yeni_bolum in new_anime_ep_list:\n",
    "    for user_selection in user_follow_list:\n",
    "        if benzerlik_orani(yeni_bolum, user_selection) > 50:\n",
    "            new_episodes_matched.append(yeni_bolum)\n"
   ]
  },
  {
   "cell_type": "code",
   "execution_count": 14,
   "id": "8d0a146a-2ec8-48df-9ee4-aadbacb0e602",
   "metadata": {},
   "outputs": [],
   "source": [
    "##e-mail entegrasyonu yapılacak##"
   ]
  }
 ],
 "metadata": {
  "kernelspec": {
   "display_name": "Python 3 (ipykernel)",
   "language": "python",
   "name": "python3"
  },
  "language_info": {
   "codemirror_mode": {
    "name": "ipython",
    "version": 3
   },
   "file_extension": ".py",
   "mimetype": "text/x-python",
   "name": "python",
   "nbconvert_exporter": "python",
   "pygments_lexer": "ipython3",
   "version": "3.12.3"
  }
 },
 "nbformat": 4,
 "nbformat_minor": 5
}
